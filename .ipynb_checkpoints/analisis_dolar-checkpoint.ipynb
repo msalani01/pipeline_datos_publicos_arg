{
 "cells": [
  {
   "cell_type": "code",
   "execution_count": null,
   "id": "c19cd8ec",
   "metadata": {
    "vscode": {
     "languageId": "plaintext"
    }
   },
   "outputs": [],
   "source": [
    "# Análisis del Dólar Oficial Argentino\n",
    "# Datos descargados desde la API del BCRA\n",
    "\n",
    "import pandas as pd\n",
    "import matplotlib.pyplot as plt\n",
    "\n",
    "# Leer los datos desde el CSV limpio\n",
    "df = pd.read_csv(\"data/dolar_oficial_limpio.csv\")\n",
    "df[\"fecha\"] = pd.to_datetime(df[\"fecha\"])\n",
    "\n",
    "# Mostrar las primeras filas\n",
    "df.head()\n"
   ]
  },
  {
   "cell_type": "code",
   "execution_count": null,
   "id": "7882ff7c",
   "metadata": {
    "vscode": {
     "languageId": "plaintext"
    }
   },
   "outputs": [],
   "source": [
    "#  Gráfico de la evolución del dólar oficial\n",
    "\n",
    "plt.figure(figsize=(12, 6))\n",
    "plt.plot(df[\"fecha\"], df[\"valor_usd\"], label=\"Dólar Oficial\", color=\"blue\")\n",
    "plt.title(\"Evolución del Dólar Oficial (BCRA)\")\n",
    "plt.xlabel(\"Fecha\")\n",
    "plt.ylabel(\"Valor en ARS\")\n",
    "plt.grid(True)\n",
    "plt.legend()\n",
    "plt.tight_layout()\n",
    "plt.show()\n"
   ]
  },
  {
   "cell_type": "code",
   "execution_count": null,
   "id": "70ddd724",
   "metadata": {
    "vscode": {
     "languageId": "plaintext"
    }
   },
   "outputs": [],
   "source": [
    "# 📊 Estadísticas descriptivas\n",
    "df.describe()\n"
   ]
  },
  {
   "cell_type": "code",
   "execution_count": null,
   "id": "bd589916",
   "metadata": {
    "vscode": {
     "languageId": "plaintext"
    }
   },
   "outputs": [],
   "source": [
    "#  Promedio anual del dólar\n",
    "df[\"año\"] = df[\"fecha\"].dt.year\n",
    "promedios_anuales = df.groupby(\"año\")[\"valor_usd\"].mean().round(2)\n",
    "promedios_anuales\n"
   ]
  },
  {
   "cell_type": "code",
   "execution_count": null,
   "id": "df528e46",
   "metadata": {
    "vscode": {
     "languageId": "plaintext"
    }
   },
   "outputs": [],
   "source": [
    "#  Evolución del promedio anual\n",
    "\n",
    "plt.figure(figsize=(10, 5))\n",
    "promedios_anuales.plot(kind=\"bar\", color=\"green\")\n",
    "plt.title(\"Promedio Anual del Dólar Oficial\")\n",
    "plt.ylabel(\"Promedio ARS\")\n",
    "plt.xlabel(\"Año\")\n",
    "plt.grid(axis=\"y\")\n",
    "plt.tight_layout()\n",
    "plt.show()\n"
   ]
  }
 ],
 "metadata": {
  "language_info": {
   "name": "python"
  }
 },
 "nbformat": 4,
 "nbformat_minor": 5
}
